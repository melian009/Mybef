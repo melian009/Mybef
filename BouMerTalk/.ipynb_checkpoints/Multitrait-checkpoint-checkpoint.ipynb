{
 "cells": [
  {
   "cell_type": "markdown",
   "metadata": {
    "slideshow": {
     "slide_type": "slide"
    }
   },
   "source": [
    "##### Carlos J Melian\n",
    "##### Eawag, ETH-Domain, Switzerland :: https://github.com/melian009\n",
    "\n",
    "## Biodiversity Multitrait Dynamics in Rapidly Changing Seascapes \n",
    "\n",
    "##### From species diversity to marine ecosystem functions via food webs: putting together the pieces of the puzzle\n",
    "##### IFREMER - Centre Manche Mer du Nord, Boulogne-sur-Mer, France, 19-20 November 2019 \n",
    "![title](image10.png)       \n",
    "In collab: Cecilia Andreazzi -- Julia Astegiano -- Leonardo Aguirre -- Catalina Chaparro -- Victor M. Eguiluz -- Miguel A. Fortuna -- Blake Matthews -- Gian Marco Palamara -- Alejandro Rozenfeld -- Ali R. Vahdati\n",
    "\n",
    "    "
   ]
  },
  {
   "cell_type": "markdown",
   "metadata": {
    "slideshow": {
     "slide_type": "slide"
    }
   },
   "source": [
    "#  Outlook \n",
    "\n",
    "* Connecting trait arquitecture, food webs and ecosystem functions :: Data rapidly accumulating but not process-based theory integrating these elements have been developed yet. \n",
    "\n",
    "* Trait arquitecture in dynamic food web seascapes: Magic less species richness than modular -- How robust are these results? \n",
    "\n",
    "* CURRENT EXPLORATION: Interactions between trait arquitecture with empirically estimated covariance matrices in dynamically exploited multidimensional seascape ecosystems :: Baltic Sea as a case study\n",
    "\n",
    "* CHALLENGES: \n",
    "    * Scalability and generalization of BAM modeling across broad spatiotemporal scales\n",
    "    * Inference in multi-dimensional and -species seascapes data exploring trait architecture gradients"
   ]
  },
  {
   "cell_type": "code",
   "execution_count": 1,
   "metadata": {
    "scrolled": false,
    "slideshow": {
     "slide_type": "slide"
    }
   },
   "outputs": [
    {
     "data": {
      "text/html": [
       "<video width=\"800\" height=\"500\" controls><source src=\"Arctic.mp4\" type=\"video/mp4\"></video>"
      ],
      "text/plain": [
       "<IPython.core.display.HTML object>"
      ]
     },
     "execution_count": 1,
     "metadata": {},
     "output_type": "execute_result"
    }
   ],
   "source": [
    "from IPython.display import HTML\n",
    "HTML(\"\"\"<video width=\"800\" height=\"500\" controls><source src=\"Arctic.mp4\" type=\"video/mp4\"></video>\"\"\")\n"
   ]
  },
  {
   "cell_type": "code",
   "execution_count": 2,
   "metadata": {
    "scrolled": false,
    "slideshow": {
     "slide_type": "slide"
    }
   },
   "outputs": [
    {
     "data": {
      "text/html": [
       "<video width=\"800\" height=\"500\" controls><source src=\"Animation.mp4\" type=\"video/mp4\"></video>"
      ],
      "text/plain": [
       "<IPython.core.display.HTML object>"
      ]
     },
     "execution_count": 2,
     "metadata": {},
     "output_type": "execute_result"
    }
   ],
   "source": [
    "#### Putting pieces together :: From trait architecture to food webs\n",
    "\n",
    "##### A quick non-exhaustive tour around biogeography, community ecology, developmental biology and paleontology, and population genomics. \n",
    "\n",
    "from IPython.display import HTML\n",
    "\n",
    "HTML(\"\"\"<video width=\"800\" height=\"500\" controls><source src=\"Animation.mp4\" type=\"video/mp4\"></video>\"\"\")"
   ]
  },
  {
   "cell_type": "markdown",
   "metadata": {
    "slideshow": {
     "slide_type": "slide"
    }
   },
   "source": [
    "# Biogeography\n",
    "\n",
    "![title](EltoGriHutNiche.png)"
   ]
  },
  {
   "cell_type": "markdown",
   "metadata": {
    "slideshow": {
     "slide_type": "subslide"
    }
   },
   "source": [
    "# References \n",
    "\n",
    "* Hutchinson, G. (1957). Concluding remarks. Cold Spring Harb. Symp. Quant. Biol., 22: 415-427.\n",
    "\n",
    "* Holt, R. D. (2009). Bringing the Hutchinsonian niche into the 21st century: ecological and evolutionary   perspectives. PNAS,106:19659-19665.\n",
    "\n",
    "* Blonder, B. et al (2014). The N-dimensional hypervolume. Global Ecology and Biogeography, 23:595-609.\n",
    "\n",
    "* Blonder, B. (2017). Hypervolume concepts in niche‐ and trait‐based ecology. Ecography, 41:1441-1455.\n"
   ]
  },
  {
   "cell_type": "markdown",
   "metadata": {
    "slideshow": {
     "slide_type": "slide"
    }
   },
   "source": [
    "# Community Ecology\n",
    "\n",
    "<div>\n",
    "<img src=\"covmat.png\" width=\"5000\" height=\"200\"/>\n",
    "</div>"
   ]
  },
  {
   "cell_type": "markdown",
   "metadata": {
    "slideshow": {
     "slide_type": "subslide"
    }
   },
   "source": [
    "# Community Ecology\n",
    "\n",
    "\n",
    "![title](fitnesslandscapes.png)\n",
    "\n",
    "\n",
    "\n",
    "Laughlin and Messier (2017). Fitness of multidimensional phenotypes in dynamic adaptive landscapes. TREE, 30:487-496\n"
   ]
  },
  {
   "cell_type": "markdown",
   "metadata": {
    "slideshow": {
     "slide_type": "slide"
    }
   },
   "source": [
    "# Developmental Biology and Paleontology\n",
    "\n",
    "\n",
    "\n",
    "<div>\n",
    "<img src=\"IntegrationGradient.png\" width=\"7000\" height=\"3500\"/>\n",
    "</div>\n",
    "\n",
    "Goswami et al (2015). The fossil record of phenotypic integration and modularity: A deep-time perspective on developmental and evolutionary dynamics. PNAS, 112:4891-4896\n",
    "\n",
    "\n"
   ]
  },
  {
   "cell_type": "code",
   "execution_count": 3,
   "metadata": {
    "slideshow": {
     "slide_type": "subslide"
    }
   },
   "outputs": [
    {
     "name": "stderr",
     "output_type": "stream",
     "text": [
      "/home/melian/anaconda3/lib/python3.7/site-packages/IPython/core/display.py:689: UserWarning: Consider using IPython.display.IFrame instead\n",
      "  warnings.warn(\"Consider using IPython.display.IFrame instead\")\n"
     ]
    },
    {
     "data": {
      "text/html": [
       "<iframe width=\"560\" height=\"315\" src=\"https://upload.wikimedia.org/wikipedia/commons/1/13/Avida_host-parasite_coevolution_web.ogv\" frameborder=\"0\" allowfullscreen></iframe>"
      ],
      "text/plain": [
       "<IPython.core.display.HTML object>"
      ]
     },
     "execution_count": 3,
     "metadata": {},
     "output_type": "execute_result"
    }
   ],
   "source": [
    "from IPython.display import HTML\n",
    "\n",
    "HTML('<iframe width=\"560\" height=\"315\" src=\"https://upload.wikimedia.org/wikipedia/commons/1/13/Avida_host-parasite_coevolution_web.ogv\" frameborder=\"0\" allowfullscreen></iframe>')\n",
    "\n",
    "#Title: Avida host-parasite coevolution web.ogv :: proxy genotype-phenotype map :: modularity vs integration\n",
    "#Author: Miguel A. Fortuna"
   ]
  },
  {
   "cell_type": "markdown",
   "metadata": {
    "slideshow": {
     "slide_type": "slide"
    }
   },
   "source": [
    "# Population Genomics\n",
    "\n",
    "Boyle et al (2017). An expanded view of complex traits: from polygenic to omnigenic. Cell, 169:1177-1186\n",
    "\n",
    "\n",
    "![title](Genomics.png)"
   ]
  },
  {
   "cell_type": "markdown",
   "metadata": {
    "slideshow": {
     "slide_type": "slide"
    }
   },
   "source": [
    "# Food Webs\n",
    "\n",
    "![title](Ecology.png)\n",
    "\n",
    "\n",
    "Eklöf et al (2013). The dimensionality of ecological networks. Ecol. Lett., 16:577-583"
   ]
  },
  {
   "cell_type": "markdown",
   "metadata": {
    "slideshow": {
     "slide_type": "slide"
    }
   },
   "source": [
    "## Putting pieces together: Connecting trait architecture to food webs\n",
    "\n",
    "\n",
    "![title](correlationtraits.png)\n",
    "\n",
    "Melian et al. (2018). Deciphering the Interdependence between Ecological and Evolutionary Networks. TREE, 33:504-512."
   ]
  },
  {
   "cell_type": "markdown",
   "metadata": {
    "slideshow": {
     "slide_type": "subslide"
    }
   },
   "source": [
    "## Putting pieces together: Connecting trait architecture to food webs AND ecosystem services\n",
    "\n",
    "<div>\n",
    "<img src=\"Figure2.png\" width=\"7000\" height=\"4000\"/>\n",
    "</div>                                                            "
   ]
  },
  {
   "cell_type": "markdown",
   "metadata": {
    "slideshow": {
     "slide_type": "subslide"
    }
   },
   "source": [
    "## Putting pieces together: Connecting trait architecture to food webs AND ecosystem services\n",
    "\n",
    "![title](Figure3.png)  \n",
    "    \n"
   ]
  },
  {
   "cell_type": "markdown",
   "metadata": {
    "slideshow": {
     "slide_type": "slide"
    }
   },
   "source": [
    "\n",
    "# Lacking mechanistic causality between trait architecture, food webs and ecosystem functions \n",
    "\n",
    "\n",
    "## How do we connect trait architecture to food webs and ecosystem functions in exploited ecosystems accounting for multimensional datasets?\n",
    "\n",
    "\n",
    "## How does trait architecture affect food webs and biodiversity dynamics? "
   ]
  },
  {
   "cell_type": "markdown",
   "metadata": {
    "slideshow": {
     "slide_type": "subslide"
    }
   },
   "source": [
    "# Model building strategy\n",
    "![title](TradeOffs1.png)"
   ]
  },
  {
   "cell_type": "markdown",
   "metadata": {
    "slideshow": {
     "slide_type": "subslide"
    }
   },
   "source": [
    "# Model complexity reduction\n",
    "![title](complex2.png)"
   ]
  },
  {
   "cell_type": "markdown",
   "metadata": {
    "slideshow": {
     "slide_type": "subslide"
    }
   },
   "source": [
    "# Boundary conditions\n",
    "\n",
    "![title](ikeko.gif)"
   ]
  },
  {
   "cell_type": "code",
   "execution_count": null,
   "metadata": {
    "collapsed": true
   },
   "outputs": [],
   "source": []
  },
  {
   "cell_type": "markdown",
   "metadata": {
    "slideshow": {
     "slide_type": "slide"
    }
   },
   "source": [
    "# Modularity vs integration :: Dynamics \n",
    "\n",
    "\n",
    "![title](Integration.png)\n",
    "\n",
    "Goswami et al (2015). The fossil record of phenotypic integration and modularity: A deep-time perspective on developmental and evolutionary dynamics. PNAS, 112:4891-4896\n",
    "  "
   ]
  },
  {
   "cell_type": "code",
   "execution_count": 4,
   "metadata": {
    "slideshow": {
     "slide_type": "subslide"
    }
   },
   "outputs": [
    {
     "data": {
      "text/html": [
       "<iframe width=\"560\" height=\"315\" src=\"https://www.youtube.com/embed/0ZGbIKd0XrM?start=150\" frameborder=\"0\" allow=\"accelerometer; autoplay; encrypted-media; gyroscope; picture-in-picture\" allowfullscreen></iframe>"
      ],
      "text/plain": [
       "<IPython.core.display.HTML object>"
      ]
     },
     "execution_count": 4,
     "metadata": {},
     "output_type": "execute_result"
    }
   ],
   "source": [
    "from IPython.display import HTML\n",
    "# Youtube\n",
    "HTML('<iframe width=\"560\" height=\"315\" src=\"https://www.youtube.com/embed/0ZGbIKd0XrM?start=150\" frameborder=\"0\" allow=\"accelerometer; autoplay; encrypted-media; gyroscope; picture-in-picture\" allowfullscreen></iframe>')\n",
    "\n",
    "#Title: Simulating Natural Selection\n",
    "#Authors: Special thanks to supporters on Patreon, especially:\n",
    "#Jordan Scales\n",
    "#Eric Helps\n",
    "#Ben Kamens\n",
    "#Ben Komalo\n",
    "#Christy Serbus\n",
    "#Sean Barker"
   ]
  },
  {
   "cell_type": "code",
   "execution_count": 5,
   "metadata": {
    "slideshow": {
     "slide_type": "subslide"
    }
   },
   "outputs": [
    {
     "data": {
      "text/html": [
       "<iframe width=\"560\" height=\"315\" src=\"https://www.youtube.com/embed/0ZGbIKd0XrM?start=375\" frameborder=\"0\" allow=\"accelerometer; autoplay; encrypted-media; gyroscope; picture-in-picture\" allowfullscreen></iframe>"
      ],
      "text/plain": [
       "<IPython.core.display.HTML object>"
      ]
     },
     "execution_count": 5,
     "metadata": {},
     "output_type": "execute_result"
    }
   ],
   "source": [
    "from IPython.display import HTML\n",
    "\n",
    "HTML('<iframe width=\"560\" height=\"315\" src=\"https://www.youtube.com/embed/0ZGbIKd0XrM?start=375\" frameborder=\"0\" allow=\"accelerometer; autoplay; encrypted-media; gyroscope; picture-in-picture\" allowfullscreen></iframe>')"
   ]
  },
  {
   "cell_type": "markdown",
   "metadata": {
    "slideshow": {
     "slide_type": "subslide"
    }
   },
   "source": [
    "# References\n",
    "\n",
    "* Goswami et al (2015). The fossil record of phenotypic integration and modularity: A deep-time perspective on developmental and evolutionary dynamics. PNAS, 112:4891-4896\n",
    "\n",
    "* Barros, C. et al. 2016. N‐dimensional hypervolumes to study stability of complex ecosystems. Ecol. Lett., 19:729–742."
   ]
  },
  {
   "cell_type": "code",
   "execution_count": 6,
   "metadata": {
    "slideshow": {
     "slide_type": "slide"
    }
   },
   "outputs": [
    {
     "data": {
      "text/html": [
       "<video width=\"800\" height=\"500\" controls><source src=\"Arctic.mp4\" type=\"video/mp4\"></video>"
      ],
      "text/plain": [
       "<IPython.core.display.HTML object>"
      ]
     },
     "execution_count": 6,
     "metadata": {},
     "output_type": "execute_result"
    }
   ],
   "source": [
    "from IPython.display import HTML\n",
    "HTML(\"\"\"<video width=\"800\" height=\"500\" controls><source src=\"Arctic.mp4\" type=\"video/mp4\"></video>\"\"\")\n"
   ]
  },
  {
   "cell_type": "code",
   "execution_count": 7,
   "metadata": {
    "scrolled": false,
    "slideshow": {
     "slide_type": "subslide"
    }
   },
   "outputs": [
    {
     "data": {
      "text/html": [
       "<video width=\"800\" height=\"500\" controls><source src=\"dynaLands.mp4\" type=\"video/mp4\"></video>"
      ],
      "text/plain": [
       "<IPython.core.display.HTML object>"
      ]
     },
     "execution_count": 7,
     "metadata": {},
     "output_type": "execute_result"
    }
   ],
   "source": [
    "\n",
    "from IPython.display import HTML\n",
    "HTML(\"\"\"<video width=\"800\" height=\"500\" controls><source src=\"dynaLands.mp4\" type=\"video/mp4\"></video>\"\"\")\n"
   ]
  },
  {
   "cell_type": "markdown",
   "metadata": {
    "slideshow": {
     "slide_type": "subslide"
    }
   },
   "source": [
    "![title](BAMc.png)\n",
    "\n",
    "\n",
    "![title](BAM.png)\n",
    "\n"
   ]
  },
  {
   "cell_type": "markdown",
   "metadata": {
    "slideshow": {
     "slide_type": "subslide"
    }
   },
   "source": [
    "![title](BAMc.png)\n",
    "\n",
    "\n",
    "\n",
    "\n",
    "${\\bf \\Omega_{BAM}}$ = \n",
    "$\\begin{bmatrix} \n",
    "V_B & C_{BA} & C_{BM} \\\\ \n",
    "C_{AB} & V_A & C_{AM} \\\\ \n",
    "C_{MB} & C_{MA} & V_M  \n",
    "\\end{bmatrix}$\n",
    "\n",
    "\n",
    "$\\mathbf{W}({\\bf z})^{t}_{ix} = exp[-\\gamma({\\color{red}[{\\bf z}^{t}_{ix} - {\\bf \\theta^{t}}_{ix}\\color{red}]^T} {\\bf \\Omega_{BAM}}^{-1} {\\color{red}[{\\bf z}^{t}_{ix} - {\\bf \\theta^{t}}_{ix}\\color{red}]})]$\n",
    "\n",
    "\n",
    "$\\underbrace{\\begin{bmatrix}\n",
    " W({\\bf z_{B}}^{t}_{ix})     \\\\\n",
    " W({\\bf z_{A}}^{t}_{ix})     \\\\\n",
    " \\vdots  \\\\\n",
    " W({\\bf z_{M}}^{t}_{ix})     \\\\\n",
    "            \\end{bmatrix}\n",
    "          }_{\\mathbf{W}}$\n",
    "           = $\\underbrace{\\begin{bmatrix}\n",
    " W({B}^{t}_{ix})^{*}     \\\\\n",
    " W({A}^{t}_{ix})^{*}     \\\\\n",
    " \\vdots  \\\\\n",
    " W({M}^{t}_{ix})^{*}     \\\\\n",
    "            \\end{bmatrix}^{T}\n",
    "             }_{\\mathbf{W}}$\n",
    "$\\underbrace{\\begin{bmatrix}\n",
    "V_{B}       &   C_{BA}       & \\dots     &   C_{BM}       \\\\\n",
    "C_{AB}       &   V_{A}       & \\dots     &   C_{AM}       \\\\\n",
    "\\vdots  &  \\vdots   &   \\vdots  &   \\vdots  \\\\   \n",
    "C_{MB}       &   C_{MA}      & \\dots     &   V_{M}       \\\\\n",
    "            \\end{bmatrix}^{-1}\n",
    "            }_{\\mathbf{\\Omega_{BAM}}}$\n",
    "$\\underbrace{\\begin{bmatrix}\n",
    "W({B}^{t}_{ix})^{*}     \\\\\n",
    "W({A}^{t}_{ix})^{*}     \\\\\n",
    "\\vdots  \\\\\n",
    "W({M}^{t}_{ix})^{*}     \\\\\n",
    "            \\end{bmatrix}\n",
    "             }_{\\mathbf{W}}$\n",
    "\n",
    "\n"
   ]
  },
  {
   "cell_type": "markdown",
   "metadata": {
    "collapsed": true,
    "slideshow": {
     "slide_type": "subslide"
    }
   },
   "source": [
    "# Fitness functions \n",
    "\n",
    "![title](wfunctions.png)"
   ]
  },
  {
   "cell_type": "markdown",
   "metadata": {
    "slideshow": {
     "slide_type": "subslide"
    }
   },
   "source": [
    "# References \n",
    "\n",
    "* Lande (1980). The genetic covariance between characters mantained by pleiotropic mutations. Genetics, 94:203-215 \n",
    "    \n",
    "* Melo and Marroig (2015). Directional selection can drive the evolution of modularity in complex traits. PNAS, 112:470-475"
   ]
  },
  {
   "cell_type": "markdown",
   "metadata": {
    "slideshow": {
     "slide_type": "slide"
    }
   },
   "source": [
    "\n",
    "![title](BAMPRe.png)\n",
    "\n",
    "\n",
    "Andreazzi, Astegiano et al. Biodiversity Multitrait Dynamics in Rapidly Changing Landscapes. (In Prep.)\n"
   ]
  }
 ],
 "metadata": {
  "celltoolbar": "Slideshow",
  "kernelspec": {
   "display_name": "Python 3",
   "language": "python",
   "name": "python3"
  },
  "language_info": {
   "codemirror_mode": {
    "name": "ipython",
    "version": 3
   },
   "file_extension": ".py",
   "mimetype": "text/x-python",
   "name": "python",
   "nbconvert_exporter": "python",
   "pygments_lexer": "ipython3",
   "version": "3.7.3"
  }
 },
 "nbformat": 4,
 "nbformat_minor": 2
}
